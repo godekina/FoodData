{
 "cells": [
  {
   "cell_type": "code",
   "execution_count": 1,
   "id": "a6da77cb",
   "metadata": {},
   "outputs": [],
   "source": [
    "import pandas as pd\n",
    "import numpy as np"
   ]
  },
  {
   "cell_type": "code",
   "execution_count": 3,
   "id": "89292162",
   "metadata": {},
   "outputs": [],
   "source": [
    "food_data = pd.read_csv('FoodBalanceSheets_E_Africa_NOFLAG.csv')"
   ]
  },
  {
   "cell_type": "code",
   "execution_count": 6,
   "id": "b70f8bc3",
   "metadata": {},
   "outputs": [
    {
     "name": "stdout",
     "output_type": "stream",
     "text": [
      "<class 'pandas.core.frame.DataFrame'>\n",
      "RangeIndex: 60943 entries, 0 to 60942\n",
      "Data columns (total 12 columns):\n",
      " #   Column        Non-Null Count  Dtype  \n",
      "---  ------        --------------  -----  \n",
      " 0   Area Code     60943 non-null  int64  \n",
      " 1   Area          60943 non-null  object \n",
      " 2   Item Code     60943 non-null  int64  \n",
      " 3   Item          60943 non-null  object \n",
      " 4   Element Code  60943 non-null  int64  \n",
      " 5   Element       60943 non-null  object \n",
      " 6   Unit          60943 non-null  object \n",
      " 7   Y2014         59354 non-null  float64\n",
      " 8   Y2015         59395 non-null  float64\n",
      " 9   Y2016         59408 non-null  float64\n",
      " 10  Y2017         59437 non-null  float64\n",
      " 11  Y2018         59507 non-null  float64\n",
      "dtypes: float64(5), int64(3), object(4)\n",
      "memory usage: 5.6+ MB\n"
     ]
    }
   ],
   "source": [
    "food_data.info()"
   ]
  },
  {
   "cell_type": "markdown",
   "id": "07f114c4",
   "metadata": {},
   "source": [
    "Q. 11\n",
    "What is the total sum of Animal Fat produced in 2014 and 2017 respectively?"
   ]
  },
  {
   "cell_type": "code",
   "execution_count": 19,
   "id": "4eb2059f",
   "metadata": {},
   "outputs": [
    {
     "name": "stdout",
     "output_type": "stream",
     "text": [
      "209460.54\n",
      "269617.53\n"
     ]
    }
   ],
   "source": [
    "AFats = food_data.groupby(['Item']).get_group('Animal fats')\n",
    "AFats2014 = AFats['Y2014'].sum()\n",
    "AFats2017 = AFats['Y2017'].sum()\n",
    "\n",
    "print(AFats2014)\n",
    "print(AFats2017)"
   ]
  },
  {
   "cell_type": "markdown",
   "id": "7e4b6256",
   "metadata": {},
   "source": [
    "Q. 12 What is the mean and standard deviation across the whole dataset for the year 2015 to 3 decimal places?"
   ]
  },
  {
   "cell_type": "code",
   "execution_count": 28,
   "id": "753b62ad",
   "metadata": {},
   "outputs": [
    {
     "name": "stdout",
     "output_type": "stream",
     "text": [
      "135.236\n",
      "1603.404\n"
     ]
    }
   ],
   "source": [
    "Food15 = food_data['Y2015']\n",
    "print(np.around(Food15.mean(), 3))\n",
    "print(np.around(Food15.std(), 3))"
   ]
  },
  {
   "cell_type": "markdown",
   "id": "ee2c721e",
   "metadata": {},
   "source": [
    "Question 13\n",
    "What is the total number and percentage of missing data in 2016 to 2 decimal places?"
   ]
  },
  {
   "cell_type": "code",
   "execution_count": 42,
   "id": "d1f1ee66",
   "metadata": {},
   "outputs": [
    {
     "name": "stdout",
     "output_type": "stream",
     "text": [
      "1535\n",
      "2.52\n"
     ]
    }
   ],
   "source": [
    "Food16 = food_data['Y2016']\n",
    "print(Food16.isnull().sum())\n",
    "perc = Food16.isnull().sum() * 100/len(Food16)\n",
    "\n",
    "print(np.around(perc, 2))"
   ]
  },
  {
   "cell_type": "markdown",
   "id": "b97e33d7",
   "metadata": {},
   "source": [
    "Question 14\n",
    "Which year had the highest correlation with ‘Element Code’?"
   ]
  },
  {
   "cell_type": "code",
   "execution_count": 59,
   "id": "4579d531",
   "metadata": {},
   "outputs": [
    {
     "data": {
      "text/plain": [
       "Area Code    18.493731\n",
       "Item Code    25.835666\n",
       "Y2014        86.012975\n",
       "Y2015        85.248146\n",
       "Y2016        87.093281\n",
       "Y2017        86.958780\n",
       "Y2018        86.516790\n",
       "dtype: float64"
      ]
     },
     "execution_count": 59,
     "metadata": {},
     "output_type": "execute_result"
    }
   ],
   "source": [
    "food_data.groupby('Element Code').corr().sum()"
   ]
  },
  {
   "cell_type": "markdown",
   "id": "715e2586",
   "metadata": {},
   "source": [
    "Question 15\n",
    "What year has the highest sum of Import Quantity?\n",
    "\n",
    "Hint- Perform a groupby operation on ‘Element’ and use the resulting Dataframe to answer the question"
   ]
  },
  {
   "cell_type": "code",
   "execution_count": 44,
   "id": "0c909c0e",
   "metadata": {},
   "outputs": [],
   "source": [
    "Elem = food_data.groupby('Element')"
   ]
  },
  {
   "cell_type": "code",
   "execution_count": 61,
   "id": "91d22733",
   "metadata": {},
   "outputs": [
    {
     "data": {
      "text/plain": [
       "Area Code                                                  688174\n",
       "Area            AlgeriaAlgeriaAlgeriaAlgeriaAlgeriaAlgeriaAlge...\n",
       "Item Code                                                13795966\n",
       "Item            Cereals - Excluding BeerWheat and productsRice...\n",
       "Element Code                                             28834929\n",
       "Element         Import QuantityImport QuantityImport QuantityI...\n",
       "Unit            1000 tonnes1000 tonnes1000 tonnes1000 tonnes10...\n",
       "Y2014                                                   274144.48\n",
       "Y2015                                                   267018.46\n",
       "Y2016                                                   286582.78\n",
       "Y2017                                                   294559.09\n",
       "Y2018                                                   287997.09\n",
       "dtype: object"
      ]
     },
     "execution_count": 61,
     "metadata": {},
     "output_type": "execute_result"
    }
   ],
   "source": [
    "Elem.get_group('Import Quantity').sum()"
   ]
  },
  {
   "cell_type": "markdown",
   "id": "cd6300b8",
   "metadata": {},
   "source": [
    "Question 16\n",
    "What is the total number of the sum of Production in 2014?\n",
    "\n",
    "Hint- Perform a groupby operation on ‘Element’ and use the resulting Dataframe to answer the question"
   ]
  },
  {
   "cell_type": "code",
   "execution_count": 66,
   "id": "b5886804",
   "metadata": {},
   "outputs": [
    {
     "data": {
      "text/plain": [
       "Area Code                                                  526751\n",
       "Area            AlgeriaAlgeriaAlgeriaAlgeriaAlgeriaAlgeriaAlge...\n",
       "Item Code                                                10450053\n",
       "Item            Cereals - Excluding BeerWheat and productsRice...\n",
       "Element Code                                             21388191\n",
       "Element         ProductionProductionProductionProductionProduc...\n",
       "Unit            1000 tonnes1000 tonnes1000 tonnes1000 tonnes10...\n",
       "Y2014                                                  1931287.75\n",
       "Y2015                                                  1947019.39\n",
       "Y2016                                                  1943537.15\n",
       "Y2017                                                  2030056.89\n",
       "Y2018                                                  2075072.89\n",
       "dtype: object"
      ]
     },
     "execution_count": 66,
     "metadata": {},
     "output_type": "execute_result"
    }
   ],
   "source": [
    "Elem = food_data.groupby('Element')\n",
    "Elem.get_group('Production').sum()"
   ]
  },
  {
   "cell_type": "markdown",
   "id": "df98a252",
   "metadata": {},
   "source": [
    "Q. 17 Which of these elements had the highest sum in 2018?\n",
    "\n",
    "Hint-  Select columns ‘Y2018’ and ‘Element’, Perform a groupby operation on ‘Element’ on the selected dataframe and answer the  question."
   ]
  },
  {
   "cell_type": "code",
   "execution_count": 71,
   "id": "70a7a36b",
   "metadata": {},
   "outputs": [
    {
     "data": {
      "text/html": [
       "<div>\n",
       "<style scoped>\n",
       "    .dataframe tbody tr th:only-of-type {\n",
       "        vertical-align: middle;\n",
       "    }\n",
       "\n",
       "    .dataframe tbody tr th {\n",
       "        vertical-align: top;\n",
       "    }\n",
       "\n",
       "    .dataframe thead th {\n",
       "        text-align: right;\n",
       "    }\n",
       "</style>\n",
       "<table border=\"1\" class=\"dataframe\">\n",
       "  <thead>\n",
       "    <tr style=\"text-align: right;\">\n",
       "      <th></th>\n",
       "      <th>Y2018</th>\n",
       "    </tr>\n",
       "    <tr>\n",
       "      <th>Element</th>\n",
       "      <th></th>\n",
       "    </tr>\n",
       "  </thead>\n",
       "  <tbody>\n",
       "    <tr>\n",
       "      <th>Domestic supply quantity</th>\n",
       "      <td>117038.00</td>\n",
       "    </tr>\n",
       "    <tr>\n",
       "      <th>Export Quantity</th>\n",
       "      <td>34641.00</td>\n",
       "    </tr>\n",
       "    <tr>\n",
       "      <th>Fat supply quantity (g/capita/day)</th>\n",
       "      <td>94.94</td>\n",
       "    </tr>\n",
       "    <tr>\n",
       "      <th>Feed</th>\n",
       "      <td>31567.00</td>\n",
       "    </tr>\n",
       "    <tr>\n",
       "      <th>Food</th>\n",
       "      <td>54077.00</td>\n",
       "    </tr>\n",
       "    <tr>\n",
       "      <th>Food supply (kcal/capita/day)</th>\n",
       "      <td>3450.00</td>\n",
       "    </tr>\n",
       "    <tr>\n",
       "      <th>Food supply quantity (kg/capita/yr)</th>\n",
       "      <td>443.56</td>\n",
       "    </tr>\n",
       "    <tr>\n",
       "      <th>Import Quantity</th>\n",
       "      <td>18036.00</td>\n",
       "    </tr>\n",
       "    <tr>\n",
       "      <th>Losses</th>\n",
       "      <td>10355.00</td>\n",
       "    </tr>\n",
       "    <tr>\n",
       "      <th>Other uses (non-food)</th>\n",
       "      <td>17221.00</td>\n",
       "    </tr>\n",
       "    <tr>\n",
       "      <th>Processing</th>\n",
       "      <td>22609.00</td>\n",
       "    </tr>\n",
       "    <tr>\n",
       "      <th>Production</th>\n",
       "      <td>118172.00</td>\n",
       "    </tr>\n",
       "    <tr>\n",
       "      <th>Protein supply quantity (g/capita/day)</th>\n",
       "      <td>101.08</td>\n",
       "    </tr>\n",
       "    <tr>\n",
       "      <th>Residuals</th>\n",
       "      <td>17323.00</td>\n",
       "    </tr>\n",
       "    <tr>\n",
       "      <th>Seed</th>\n",
       "      <td>1474.00</td>\n",
       "    </tr>\n",
       "    <tr>\n",
       "      <th>Stock Variation</th>\n",
       "      <td>2226.00</td>\n",
       "    </tr>\n",
       "    <tr>\n",
       "      <th>Total Population - Both sexes</th>\n",
       "      <td>195875.00</td>\n",
       "    </tr>\n",
       "    <tr>\n",
       "      <th>Tourist consumption</th>\n",
       "      <td>6.00</td>\n",
       "    </tr>\n",
       "  </tbody>\n",
       "</table>\n",
       "</div>"
      ],
      "text/plain": [
       "                                            Y2018\n",
       "Element                                          \n",
       "Domestic supply quantity                117038.00\n",
       "Export Quantity                          34641.00\n",
       "Fat supply quantity (g/capita/day)          94.94\n",
       "Feed                                     31567.00\n",
       "Food                                     54077.00\n",
       "Food supply (kcal/capita/day)             3450.00\n",
       "Food supply quantity (kg/capita/yr)        443.56\n",
       "Import Quantity                          18036.00\n",
       "Losses                                   10355.00\n",
       "Other uses (non-food)                    17221.00\n",
       "Processing                               22609.00\n",
       "Production                              118172.00\n",
       "Protein supply quantity (g/capita/day)     101.08\n",
       "Residuals                                17323.00\n",
       "Seed                                      1474.00\n",
       "Stock Variation                           2226.00\n",
       "Total Population - Both sexes           195875.00\n",
       "Tourist consumption                          6.00"
      ]
     },
     "execution_count": 71,
     "metadata": {},
     "output_type": "execute_result"
    }
   ],
   "source": [
    "select = food_data[['Y2018', 'Element']]\n",
    "select.groupby('Element').max()"
   ]
  },
  {
   "cell_type": "markdown",
   "id": "13adae21",
   "metadata": {},
   "source": [
    "Question 18\n",
    "Which of these elements had the 3rd lowest sum in 2018?\n",
    "\n",
    "Hint-  Select columns ‘Y2018’ and ‘Element’, Perform a groupby operation on ‘Element’ on the selected dataframe and answer the  question.  "
   ]
  },
  {
   "cell_type": "code",
   "execution_count": 72,
   "id": "54f8b786",
   "metadata": {},
   "outputs": [
    {
     "data": {
      "text/html": [
       "<div>\n",
       "<style scoped>\n",
       "    .dataframe tbody tr th:only-of-type {\n",
       "        vertical-align: middle;\n",
       "    }\n",
       "\n",
       "    .dataframe tbody tr th {\n",
       "        vertical-align: top;\n",
       "    }\n",
       "\n",
       "    .dataframe thead th {\n",
       "        text-align: right;\n",
       "    }\n",
       "</style>\n",
       "<table border=\"1\" class=\"dataframe\">\n",
       "  <thead>\n",
       "    <tr style=\"text-align: right;\">\n",
       "      <th></th>\n",
       "      <th>Y2018</th>\n",
       "    </tr>\n",
       "    <tr>\n",
       "      <th>Element</th>\n",
       "      <th></th>\n",
       "    </tr>\n",
       "  </thead>\n",
       "  <tbody>\n",
       "    <tr>\n",
       "      <th>Domestic supply quantity</th>\n",
       "      <td>117038.00</td>\n",
       "    </tr>\n",
       "    <tr>\n",
       "      <th>Export Quantity</th>\n",
       "      <td>34641.00</td>\n",
       "    </tr>\n",
       "    <tr>\n",
       "      <th>Fat supply quantity (g/capita/day)</th>\n",
       "      <td>94.94</td>\n",
       "    </tr>\n",
       "    <tr>\n",
       "      <th>Feed</th>\n",
       "      <td>31567.00</td>\n",
       "    </tr>\n",
       "    <tr>\n",
       "      <th>Food</th>\n",
       "      <td>54077.00</td>\n",
       "    </tr>\n",
       "    <tr>\n",
       "      <th>Food supply (kcal/capita/day)</th>\n",
       "      <td>3450.00</td>\n",
       "    </tr>\n",
       "    <tr>\n",
       "      <th>Food supply quantity (kg/capita/yr)</th>\n",
       "      <td>443.56</td>\n",
       "    </tr>\n",
       "    <tr>\n",
       "      <th>Import Quantity</th>\n",
       "      <td>18036.00</td>\n",
       "    </tr>\n",
       "    <tr>\n",
       "      <th>Losses</th>\n",
       "      <td>10355.00</td>\n",
       "    </tr>\n",
       "    <tr>\n",
       "      <th>Other uses (non-food)</th>\n",
       "      <td>17221.00</td>\n",
       "    </tr>\n",
       "    <tr>\n",
       "      <th>Processing</th>\n",
       "      <td>22609.00</td>\n",
       "    </tr>\n",
       "    <tr>\n",
       "      <th>Production</th>\n",
       "      <td>118172.00</td>\n",
       "    </tr>\n",
       "    <tr>\n",
       "      <th>Protein supply quantity (g/capita/day)</th>\n",
       "      <td>101.08</td>\n",
       "    </tr>\n",
       "    <tr>\n",
       "      <th>Residuals</th>\n",
       "      <td>17323.00</td>\n",
       "    </tr>\n",
       "    <tr>\n",
       "      <th>Seed</th>\n",
       "      <td>1474.00</td>\n",
       "    </tr>\n",
       "    <tr>\n",
       "      <th>Stock Variation</th>\n",
       "      <td>2226.00</td>\n",
       "    </tr>\n",
       "    <tr>\n",
       "      <th>Total Population - Both sexes</th>\n",
       "      <td>195875.00</td>\n",
       "    </tr>\n",
       "    <tr>\n",
       "      <th>Tourist consumption</th>\n",
       "      <td>6.00</td>\n",
       "    </tr>\n",
       "  </tbody>\n",
       "</table>\n",
       "</div>"
      ],
      "text/plain": [
       "                                            Y2018\n",
       "Element                                          \n",
       "Domestic supply quantity                117038.00\n",
       "Export Quantity                          34641.00\n",
       "Fat supply quantity (g/capita/day)          94.94\n",
       "Feed                                     31567.00\n",
       "Food                                     54077.00\n",
       "Food supply (kcal/capita/day)             3450.00\n",
       "Food supply quantity (kg/capita/yr)        443.56\n",
       "Import Quantity                          18036.00\n",
       "Losses                                   10355.00\n",
       "Other uses (non-food)                    17221.00\n",
       "Processing                               22609.00\n",
       "Production                              118172.00\n",
       "Protein supply quantity (g/capita/day)     101.08\n",
       "Residuals                                17323.00\n",
       "Seed                                      1474.00\n",
       "Stock Variation                           2226.00\n",
       "Total Population - Both sexes           195875.00\n",
       "Tourist consumption                          6.00"
      ]
     },
     "execution_count": 72,
     "metadata": {},
     "output_type": "execute_result"
    }
   ],
   "source": [
    "select = food_data[['Y2018', 'Element']]\n",
    "select.groupby('Element').max()"
   ]
  },
  {
   "cell_type": "markdown",
   "id": "1f316136",
   "metadata": {},
   "source": [
    "Question 19\n",
    "What is the total Import Quantity in Algeria in 2018?"
   ]
  },
  {
   "cell_type": "code",
   "execution_count": 82,
   "id": "54e0972f",
   "metadata": {},
   "outputs": [
    {
     "ename": "KeyError",
     "evalue": "('Area', 'Y2018')",
     "output_type": "error",
     "traceback": [
      "\u001b[1;31m---------------------------------------------------------------------------\u001b[0m",
      "\u001b[1;31mKeyError\u001b[0m                                  Traceback (most recent call last)",
      "\u001b[1;32m~\\anaconda3\\lib\\site-packages\\pandas\\core\\indexes\\base.py\u001b[0m in \u001b[0;36mget_loc\u001b[1;34m(self, key, method, tolerance)\u001b[0m\n\u001b[0;32m   3079\u001b[0m             \u001b[1;32mtry\u001b[0m\u001b[1;33m:\u001b[0m\u001b[1;33m\u001b[0m\u001b[1;33m\u001b[0m\u001b[0m\n\u001b[1;32m-> 3080\u001b[1;33m                 \u001b[1;32mreturn\u001b[0m \u001b[0mself\u001b[0m\u001b[1;33m.\u001b[0m\u001b[0m_engine\u001b[0m\u001b[1;33m.\u001b[0m\u001b[0mget_loc\u001b[0m\u001b[1;33m(\u001b[0m\u001b[0mcasted_key\u001b[0m\u001b[1;33m)\u001b[0m\u001b[1;33m\u001b[0m\u001b[1;33m\u001b[0m\u001b[0m\n\u001b[0m\u001b[0;32m   3081\u001b[0m             \u001b[1;32mexcept\u001b[0m \u001b[0mKeyError\u001b[0m \u001b[1;32mas\u001b[0m \u001b[0merr\u001b[0m\u001b[1;33m:\u001b[0m\u001b[1;33m\u001b[0m\u001b[1;33m\u001b[0m\u001b[0m\n",
      "\u001b[1;32mpandas\\_libs\\index.pyx\u001b[0m in \u001b[0;36mpandas._libs.index.IndexEngine.get_loc\u001b[1;34m()\u001b[0m\n",
      "\u001b[1;32mpandas\\_libs\\index.pyx\u001b[0m in \u001b[0;36mpandas._libs.index.IndexEngine.get_loc\u001b[1;34m()\u001b[0m\n",
      "\u001b[1;32mpandas\\_libs\\hashtable_class_helper.pxi\u001b[0m in \u001b[0;36mpandas._libs.hashtable.PyObjectHashTable.get_item\u001b[1;34m()\u001b[0m\n",
      "\u001b[1;32mpandas\\_libs\\hashtable_class_helper.pxi\u001b[0m in \u001b[0;36mpandas._libs.hashtable.PyObjectHashTable.get_item\u001b[1;34m()\u001b[0m\n",
      "\u001b[1;31mKeyError\u001b[0m: ('Area', 'Y2018')",
      "\nThe above exception was the direct cause of the following exception:\n",
      "\u001b[1;31mKeyError\u001b[0m                                  Traceback (most recent call last)",
      "\u001b[1;32m<ipython-input-82-d5ea1d1c3de9>\u001b[0m in \u001b[0;36m<module>\u001b[1;34m\u001b[0m\n\u001b[0;32m      1\u001b[0m \u001b[0mImportQty\u001b[0m \u001b[1;33m=\u001b[0m \u001b[0mfood_data\u001b[0m\u001b[1;33m.\u001b[0m\u001b[0mgroupby\u001b[0m\u001b[1;33m(\u001b[0m\u001b[1;34m'Element'\u001b[0m\u001b[1;33m)\u001b[0m\u001b[1;33m.\u001b[0m\u001b[0mget_group\u001b[0m\u001b[1;33m(\u001b[0m\u001b[1;34m'Import Quantity'\u001b[0m\u001b[1;33m)\u001b[0m\u001b[1;33m\u001b[0m\u001b[1;33m\u001b[0m\u001b[0m\n\u001b[1;32m----> 2\u001b[1;33m \u001b[0mfood_data\u001b[0m\u001b[1;33m[\u001b[0m\u001b[1;34m'Area'\u001b[0m\u001b[1;33m,\u001b[0m\u001b[1;34m'Y2018'\u001b[0m\u001b[1;33m]\u001b[0m\u001b[1;33m\u001b[0m\u001b[1;33m\u001b[0m\u001b[0m\n\u001b[0m",
      "\u001b[1;32m~\\anaconda3\\lib\\site-packages\\pandas\\core\\frame.py\u001b[0m in \u001b[0;36m__getitem__\u001b[1;34m(self, key)\u001b[0m\n\u001b[0;32m   3022\u001b[0m             \u001b[1;32mif\u001b[0m \u001b[0mself\u001b[0m\u001b[1;33m.\u001b[0m\u001b[0mcolumns\u001b[0m\u001b[1;33m.\u001b[0m\u001b[0mnlevels\u001b[0m \u001b[1;33m>\u001b[0m \u001b[1;36m1\u001b[0m\u001b[1;33m:\u001b[0m\u001b[1;33m\u001b[0m\u001b[1;33m\u001b[0m\u001b[0m\n\u001b[0;32m   3023\u001b[0m                 \u001b[1;32mreturn\u001b[0m \u001b[0mself\u001b[0m\u001b[1;33m.\u001b[0m\u001b[0m_getitem_multilevel\u001b[0m\u001b[1;33m(\u001b[0m\u001b[0mkey\u001b[0m\u001b[1;33m)\u001b[0m\u001b[1;33m\u001b[0m\u001b[1;33m\u001b[0m\u001b[0m\n\u001b[1;32m-> 3024\u001b[1;33m             \u001b[0mindexer\u001b[0m \u001b[1;33m=\u001b[0m \u001b[0mself\u001b[0m\u001b[1;33m.\u001b[0m\u001b[0mcolumns\u001b[0m\u001b[1;33m.\u001b[0m\u001b[0mget_loc\u001b[0m\u001b[1;33m(\u001b[0m\u001b[0mkey\u001b[0m\u001b[1;33m)\u001b[0m\u001b[1;33m\u001b[0m\u001b[1;33m\u001b[0m\u001b[0m\n\u001b[0m\u001b[0;32m   3025\u001b[0m             \u001b[1;32mif\u001b[0m \u001b[0mis_integer\u001b[0m\u001b[1;33m(\u001b[0m\u001b[0mindexer\u001b[0m\u001b[1;33m)\u001b[0m\u001b[1;33m:\u001b[0m\u001b[1;33m\u001b[0m\u001b[1;33m\u001b[0m\u001b[0m\n\u001b[0;32m   3026\u001b[0m                 \u001b[0mindexer\u001b[0m \u001b[1;33m=\u001b[0m \u001b[1;33m[\u001b[0m\u001b[0mindexer\u001b[0m\u001b[1;33m]\u001b[0m\u001b[1;33m\u001b[0m\u001b[1;33m\u001b[0m\u001b[0m\n",
      "\u001b[1;32m~\\anaconda3\\lib\\site-packages\\pandas\\core\\indexes\\base.py\u001b[0m in \u001b[0;36mget_loc\u001b[1;34m(self, key, method, tolerance)\u001b[0m\n\u001b[0;32m   3080\u001b[0m                 \u001b[1;32mreturn\u001b[0m \u001b[0mself\u001b[0m\u001b[1;33m.\u001b[0m\u001b[0m_engine\u001b[0m\u001b[1;33m.\u001b[0m\u001b[0mget_loc\u001b[0m\u001b[1;33m(\u001b[0m\u001b[0mcasted_key\u001b[0m\u001b[1;33m)\u001b[0m\u001b[1;33m\u001b[0m\u001b[1;33m\u001b[0m\u001b[0m\n\u001b[0;32m   3081\u001b[0m             \u001b[1;32mexcept\u001b[0m \u001b[0mKeyError\u001b[0m \u001b[1;32mas\u001b[0m \u001b[0merr\u001b[0m\u001b[1;33m:\u001b[0m\u001b[1;33m\u001b[0m\u001b[1;33m\u001b[0m\u001b[0m\n\u001b[1;32m-> 3082\u001b[1;33m                 \u001b[1;32mraise\u001b[0m \u001b[0mKeyError\u001b[0m\u001b[1;33m(\u001b[0m\u001b[0mkey\u001b[0m\u001b[1;33m)\u001b[0m \u001b[1;32mfrom\u001b[0m \u001b[0merr\u001b[0m\u001b[1;33m\u001b[0m\u001b[1;33m\u001b[0m\u001b[0m\n\u001b[0m\u001b[0;32m   3083\u001b[0m \u001b[1;33m\u001b[0m\u001b[0m\n\u001b[0;32m   3084\u001b[0m         \u001b[1;32mif\u001b[0m \u001b[0mtolerance\u001b[0m \u001b[1;32mis\u001b[0m \u001b[1;32mnot\u001b[0m \u001b[1;32mNone\u001b[0m\u001b[1;33m:\u001b[0m\u001b[1;33m\u001b[0m\u001b[1;33m\u001b[0m\u001b[0m\n",
      "\u001b[1;31mKeyError\u001b[0m: ('Area', 'Y2018')"
     ]
    }
   ],
   "source": [
    "ImportQty = food_data.groupby('Element').get_group('Import Quantity')\n",
    "food_data[['Area','Y2018']]"
   ]
  },
  {
   "cell_type": "markdown",
   "id": "9ec41bd7",
   "metadata": {},
   "source": [
    "Question 20\n",
    "What is the total number of unique countries in the dataset?"
   ]
  },
  {
   "cell_type": "code",
   "execution_count": 87,
   "id": "f89d3e9a",
   "metadata": {},
   "outputs": [
    {
     "data": {
      "text/plain": [
       "49"
      ]
     },
     "execution_count": 87,
     "metadata": {},
     "output_type": "execute_result"
    }
   ],
   "source": [
    "uniqVal = food_data['Area'].unique()\n",
    "len(uniqVal)"
   ]
  },
  {
   "cell_type": "code",
   "execution_count": null,
   "id": "1b76198f",
   "metadata": {},
   "outputs": [],
   "source": []
  },
  {
   "cell_type": "code",
   "execution_count": null,
   "id": "63187538",
   "metadata": {},
   "outputs": [],
   "source": []
  }
 ],
 "metadata": {
  "kernelspec": {
   "display_name": "Python 3",
   "language": "python",
   "name": "python3"
  },
  "language_info": {
   "codemirror_mode": {
    "name": "ipython",
    "version": 3
   },
   "file_extension": ".py",
   "mimetype": "text/x-python",
   "name": "python",
   "nbconvert_exporter": "python",
   "pygments_lexer": "ipython3",
   "version": "3.8.8"
  },
  "toc": {
   "base_numbering": 1,
   "nav_menu": {},
   "number_sections": true,
   "sideBar": true,
   "skip_h1_title": false,
   "title_cell": "Table of Contents",
   "title_sidebar": "Contents",
   "toc_cell": false,
   "toc_position": {},
   "toc_section_display": true,
   "toc_window_display": false
  }
 },
 "nbformat": 4,
 "nbformat_minor": 5
}
