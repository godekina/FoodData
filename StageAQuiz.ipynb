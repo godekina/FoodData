{
 "cells": [
  {
   "cell_type": "code",
   "execution_count": 1,
   "id": "8c13b173",
   "metadata": {},
   "outputs": [],
   "source": [
    "import pandas as pd\n",
    "import numpy as np"
   ]
  },
  {
   "cell_type": "code",
   "execution_count": 3,
   "id": "3ca78c79",
   "metadata": {},
   "outputs": [],
   "source": [
    "food_data = pd.read_csv('FoodBalanceSheets_E_Africa_NOFLAG.csv')"
   ]
  },
  {
   "cell_type": "code",
   "execution_count": 6,
   "id": "48f4f3a6",
   "metadata": {},
   "outputs": [
    {
     "name": "stdout",
     "output_type": "stream",
     "text": [
      "<class 'pandas.core.frame.DataFrame'>\n",
      "RangeIndex: 60943 entries, 0 to 60942\n",
      "Data columns (total 12 columns):\n",
      " #   Column        Non-Null Count  Dtype  \n",
      "---  ------        --------------  -----  \n",
      " 0   Area Code     60943 non-null  int64  \n",
      " 1   Area          60943 non-null  object \n",
      " 2   Item Code     60943 non-null  int64  \n",
      " 3   Item          60943 non-null  object \n",
      " 4   Element Code  60943 non-null  int64  \n",
      " 5   Element       60943 non-null  object \n",
      " 6   Unit          60943 non-null  object \n",
      " 7   Y2014         59354 non-null  float64\n",
      " 8   Y2015         59395 non-null  float64\n",
      " 9   Y2016         59408 non-null  float64\n",
      " 10  Y2017         59437 non-null  float64\n",
      " 11  Y2018         59507 non-null  float64\n",
      "dtypes: float64(5), int64(3), object(4)\n",
      "memory usage: 5.6+ MB\n"
     ]
    }
   ],
   "source": [
    "food_data.info()"
   ]
  },
  {
   "cell_type": "markdown",
   "id": "a3e70bb9",
   "metadata": {},
   "source": [
    "Q. 11\n",
    "What is the total sum of Animal Fat produced in 2014 and 2017 respectively?"
   ]
  },
  {
   "cell_type": "code",
   "execution_count": 19,
   "id": "2a74b412",
   "metadata": {},
   "outputs": [
    {
     "name": "stdout",
     "output_type": "stream",
     "text": [
      "209460.54\n",
      "269617.53\n"
     ]
    }
   ],
   "source": [
    "AFats = food_data.groupby(['Item']).get_group('Animal fats')\n",
    "AFats2014 = AFats['Y2014'].sum()\n",
    "AFats2017 = AFats['Y2017'].sum()\n",
    "\n",
    "print(AFats2014)\n",
    "print(AFats2017)"
   ]
  },
  {
   "cell_type": "markdown",
   "id": "e01fba1e",
   "metadata": {},
   "source": [
    "Q. 12 What is the mean and standard deviation across the whole dataset for the year 2015 to 3 decimal places?"
   ]
  },
  {
   "cell_type": "code",
   "execution_count": 28,
   "id": "e41c41f3",
   "metadata": {},
   "outputs": [
    {
     "name": "stdout",
     "output_type": "stream",
     "text": [
      "135.236\n",
      "1603.404\n"
     ]
    }
   ],
   "source": [
    "Food15 = food_data['Y2015']\n",
    "print(np.around(Food15.mean(), 3))\n",
    "print(np.around(Food15.std(), 3))"
   ]
  },
  {
   "cell_type": "markdown",
   "id": "ac2a0980",
   "metadata": {},
   "source": [
    "Question 13\n",
    "What is the total number and percentage of missing data in 2016 to 2 decimal places?"
   ]
  },
  {
   "cell_type": "code",
   "execution_count": 42,
   "id": "cb029711",
   "metadata": {},
   "outputs": [
    {
     "name": "stdout",
     "output_type": "stream",
     "text": [
      "1535\n",
      "2.52\n"
     ]
    }
   ],
   "source": [
    "Food16 = food_data['Y2016']\n",
    "print(Food16.isnull().sum())\n",
    "perc = Food16.isnull().sum() * 100/len(Food16)\n",
    "\n",
    "print(np.around(perc, 2))"
   ]
  },
  {
   "cell_type": "markdown",
   "id": "a8ebabe3",
   "metadata": {},
   "source": [
    "Question 14\n",
    "Which year had the highest correlation with ‘Element Code’?"
   ]
  },
  {
   "cell_type": "code",
   "execution_count": 59,
   "id": "266690c2",
   "metadata": {},
   "outputs": [
    {
     "data": {
      "text/plain": [
       "Area Code    18.493731\n",
       "Item Code    25.835666\n",
       "Y2014        86.012975\n",
       "Y2015        85.248146\n",
       "Y2016        87.093281\n",
       "Y2017        86.958780\n",
       "Y2018        86.516790\n",
       "dtype: float64"
      ]
     },
     "execution_count": 59,
     "metadata": {},
     "output_type": "execute_result"
    }
   ],
   "source": [
    "food_data.groupby('Element Code').corr().sum()"
   ]
  },
  {
   "cell_type": "markdown",
   "id": "9647ece6",
   "metadata": {},
   "source": [
    "Question 15\n",
    "What year has the highest sum of Import Quantity?\n",
    "\n",
    "Hint- Perform a groupby operation on ‘Element’ and use the resulting Dataframe to answer the question"
   ]
  },
  {
   "cell_type": "code",
   "execution_count": 44,
   "id": "d10f5d21",
   "metadata": {},
   "outputs": [],
   "source": [
    "Elem = food_data.groupby('Element')"
   ]
  },
  {
   "cell_type": "code",
   "execution_count": 61,
   "id": "9880a98b",
   "metadata": {},
   "outputs": [
    {
     "data": {
      "text/plain": [
       "Area Code                                                  688174\n",
       "Area            AlgeriaAlgeriaAlgeriaAlgeriaAlgeriaAlgeriaAlge...\n",
       "Item Code                                                13795966\n",
       "Item            Cereals - Excluding BeerWheat and productsRice...\n",
       "Element Code                                             28834929\n",
       "Element         Import QuantityImport QuantityImport QuantityI...\n",
       "Unit            1000 tonnes1000 tonnes1000 tonnes1000 tonnes10...\n",
       "Y2014                                                   274144.48\n",
       "Y2015                                                   267018.46\n",
       "Y2016                                                   286582.78\n",
       "Y2017                                                   294559.09\n",
       "Y2018                                                   287997.09\n",
       "dtype: object"
      ]
     },
     "execution_count": 61,
     "metadata": {},
     "output_type": "execute_result"
    }
   ],
   "source": [
    "Elem.get_group('Import Quantity').sum()"
   ]
  },
  {
   "cell_type": "markdown",
   "id": "9634c45b",
   "metadata": {},
   "source": [
    "Question 16\n",
    "What is the total number of the sum of Production in 2014?\n",
    "\n",
    "Hint- Perform a groupby operation on ‘Element’ and use the resulting Dataframe to answer the question"
   ]
  },
  {
   "cell_type": "code",
   "execution_count": 66,
   "id": "662db43a",
   "metadata": {},
   "outputs": [
    {
     "data": {
      "text/plain": [
       "Area Code                                                  526751\n",
       "Area            AlgeriaAlgeriaAlgeriaAlgeriaAlgeriaAlgeriaAlge...\n",
       "Item Code                                                10450053\n",
       "Item            Cereals - Excluding BeerWheat and productsRice...\n",
       "Element Code                                             21388191\n",
       "Element         ProductionProductionProductionProductionProduc...\n",
       "Unit            1000 tonnes1000 tonnes1000 tonnes1000 tonnes10...\n",
       "Y2014                                                  1931287.75\n",
       "Y2015                                                  1947019.39\n",
       "Y2016                                                  1943537.15\n",
       "Y2017                                                  2030056.89\n",
       "Y2018                                                  2075072.89\n",
       "dtype: object"
      ]
     },
     "execution_count": 66,
     "metadata": {},
     "output_type": "execute_result"
    }
   ],
   "source": [
    "Elem = food_data.groupby('Element')\n",
    "Elem.get_group('Production').sum()"
   ]
  },
  {
   "cell_type": "markdown",
   "id": "00f74e05",
   "metadata": {},
   "source": [
    "Q. 17 Which of these elements had the highest sum in 2018?\n",
    "\n",
    "Hint-  Select columns ‘Y2018’ and ‘Element’, Perform a groupby operation on ‘Element’ on the selected dataframe and answer the  question."
   ]
  },
  {
   "cell_type": "code",
   "execution_count": 67,
   "id": "5654215c",
   "metadata": {},
   "outputs": [
    {
     "data": {
      "text/html": [
       "<div>\n",
       "<style scoped>\n",
       "    .dataframe tbody tr th:only-of-type {\n",
       "        vertical-align: middle;\n",
       "    }\n",
       "\n",
       "    .dataframe tbody tr th {\n",
       "        vertical-align: top;\n",
       "    }\n",
       "\n",
       "    .dataframe thead th {\n",
       "        text-align: right;\n",
       "    }\n",
       "</style>\n",
       "<table border=\"1\" class=\"dataframe\">\n",
       "  <thead>\n",
       "    <tr style=\"text-align: right;\">\n",
       "      <th></th>\n",
       "      <th>Y2018</th>\n",
       "      <th>Element</th>\n",
       "    </tr>\n",
       "  </thead>\n",
       "  <tbody>\n",
       "    <tr>\n",
       "      <th>0</th>\n",
       "      <td>42228.00</td>\n",
       "      <td>Total Population - Both sexes</td>\n",
       "    </tr>\n",
       "    <tr>\n",
       "      <th>1</th>\n",
       "      <td>0.00</td>\n",
       "      <td>Domestic supply quantity</td>\n",
       "    </tr>\n",
       "    <tr>\n",
       "      <th>2</th>\n",
       "      <td>3322.00</td>\n",
       "      <td>Food supply (kcal/capita/day)</td>\n",
       "    </tr>\n",
       "    <tr>\n",
       "      <th>3</th>\n",
       "      <td>91.83</td>\n",
       "      <td>Protein supply quantity (g/capita/day)</td>\n",
       "    </tr>\n",
       "    <tr>\n",
       "      <th>4</th>\n",
       "      <td>77.28</td>\n",
       "      <td>Fat supply quantity (g/capita/day)</td>\n",
       "    </tr>\n",
       "    <tr>\n",
       "      <th>...</th>\n",
       "      <td>...</td>\n",
       "      <td>...</td>\n",
       "    </tr>\n",
       "    <tr>\n",
       "      <th>60938</th>\n",
       "      <td>16.00</td>\n",
       "      <td>Food</td>\n",
       "    </tr>\n",
       "    <tr>\n",
       "      <th>60939</th>\n",
       "      <td>1.08</td>\n",
       "      <td>Food supply quantity (kg/capita/yr)</td>\n",
       "    </tr>\n",
       "    <tr>\n",
       "      <th>60940</th>\n",
       "      <td>1.00</td>\n",
       "      <td>Food supply (kcal/capita/day)</td>\n",
       "    </tr>\n",
       "    <tr>\n",
       "      <th>60941</th>\n",
       "      <td>0.04</td>\n",
       "      <td>Protein supply quantity (g/capita/day)</td>\n",
       "    </tr>\n",
       "    <tr>\n",
       "      <th>60942</th>\n",
       "      <td>0.01</td>\n",
       "      <td>Fat supply quantity (g/capita/day)</td>\n",
       "    </tr>\n",
       "  </tbody>\n",
       "</table>\n",
       "<p>60943 rows × 2 columns</p>\n",
       "</div>"
      ],
      "text/plain": [
       "          Y2018                                 Element\n",
       "0      42228.00           Total Population - Both sexes\n",
       "1          0.00                Domestic supply quantity\n",
       "2       3322.00           Food supply (kcal/capita/day)\n",
       "3         91.83  Protein supply quantity (g/capita/day)\n",
       "4         77.28      Fat supply quantity (g/capita/day)\n",
       "...         ...                                     ...\n",
       "60938     16.00                                    Food\n",
       "60939      1.08     Food supply quantity (kg/capita/yr)\n",
       "60940      1.00           Food supply (kcal/capita/day)\n",
       "60941      0.04  Protein supply quantity (g/capita/day)\n",
       "60942      0.01      Fat supply quantity (g/capita/day)\n",
       "\n",
       "[60943 rows x 2 columns]"
      ]
     },
     "execution_count": 67,
     "metadata": {},
     "output_type": "execute_result"
    }
   ],
   "source": [
    "select = food_data[['Y2018', 'Element']]"
   ]
  },
  {
   "cell_type": "code",
   "execution_count": null,
   "id": "b73b0708",
   "metadata": {},
   "outputs": [],
   "source": []
  },
  {
   "cell_type": "code",
   "execution_count": null,
   "id": "82f8e48a",
   "metadata": {},
   "outputs": [],
   "source": []
  },
  {
   "cell_type": "code",
   "execution_count": null,
   "id": "5006e6c7",
   "metadata": {},
   "outputs": [],
   "source": []
  },
  {
   "cell_type": "code",
   "execution_count": null,
   "id": "569e5eb0",
   "metadata": {},
   "outputs": [],
   "source": []
  }
 ],
 "metadata": {
  "kernelspec": {
   "display_name": "Python 3",
   "language": "python",
   "name": "python3"
  },
  "language_info": {
   "codemirror_mode": {
    "name": "ipython",
    "version": 3
   },
   "file_extension": ".py",
   "mimetype": "text/x-python",
   "name": "python",
   "nbconvert_exporter": "python",
   "pygments_lexer": "ipython3",
   "version": "3.8.8"
  },
  "toc": {
   "base_numbering": 1,
   "nav_menu": {},
   "number_sections": true,
   "sideBar": true,
   "skip_h1_title": false,
   "title_cell": "Table of Contents",
   "title_sidebar": "Contents",
   "toc_cell": false,
   "toc_position": {},
   "toc_section_display": true,
   "toc_window_display": false
  }
 },
 "nbformat": 4,
 "nbformat_minor": 5
}
